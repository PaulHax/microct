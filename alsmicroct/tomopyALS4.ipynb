{
 "cells": [
  {
   "cell_type": "markdown",
   "metadata": {},
   "source": [
    "Press shift-enter to run each cell. You can edit the code in each cell, and you can also re-run each cell. The lines that start with # are comments that give you instructions on what you can edit."
   ]
  },
  {
   "cell_type": "code",
   "execution_count": null,
   "metadata": {},
   "outputs": [],
   "source": [
    "#this cell imports the functions needed in the notebook\n",
    "from __future__ import print_function\n",
    "import numpy as np\n",
    "import os\n",
    "\n",
    "from ipypathchooser import PathChooser\n",
    "from ipysliceviewer import SliceViewer\n",
    "\n",
    "import ipywidgets as widgets\n",
    "\n",
    "%matplotlib widget\n",
    "import matplotlib.pyplot as plt\n",
    "import matplotlib.animation as animation\n",
    "\n",
    "from IPython.display import display\n",
    "\n",
    "from reconstruction import recon_setup, recon\n",
    "\n",
    "import pickle\n",
    "recons_todo = [] #list of recon_dictionary variables so that you can accumulate a bunch of them and then run them at once."
   ]
  },
  {
   "cell_type": "code",
   "execution_count": null,
   "metadata": {},
   "outputs": [],
   "source": [
    "#location of your raw data on nersc\n",
    "p = PathChooser(\"/global/cfs/cdirs/als/data_mover/8.3.2/raw/dyparkinson\")\n",
    "\n",
    "#output folder name (on NERSC scratch)\n",
    "subdirectoryname = 'dulaOutput1'\n",
    "\n",
    "outputPath = os.path.join(os.path.expandvars(\"$SCRATCH\"),subdirectoryname)\n",
    "if not os.path.exists(outputPath):\n",
    "    os.mkdir(outputPath)\n",
    "pickledparamsfile = f'{subdirectoryname}.pkl'\n",
    "\n",
    "p"
   ]
  },
  {
   "cell_type": "code",
   "execution_count": null,
   "metadata": {},
   "outputs": [],
   "source": [
    "#this sets the path and filename variables.\n",
    "#we recommend you set the output path to be your scratch drive\n",
    "inputPath,filename = os.path.split(p.chosen_path)\n",
    "\n",
    "#this is where the reconstruction settings are set up.\n",
    "#Open the reconstruction.py file to see comments on options.\n",
    "functioninput = {\n",
    "    \"sinoused\": (-1,1,1), #uncommenting this allows you to reconstruct just 1 slice instead of all of them\n",
    "    \"cor\": None,# None, #set something other than None if you want to automatically detect center of rotation\n",
    "    \"filename\": filename,\n",
    "    \"inputPath\": inputPath,\n",
    "    \"outputPath\": outputPath,\n",
    "    \"filetype\": 'dxfile',\n",
    "    \"timepoint\": 0, #don't worry too much about setting time point here, it only affects COR detection.\n",
    "    \"doFWringremoval\": 0,\n",
    "    \"writenormalized\": 0,\n",
    "    \"dorecon\": 1,\n",
    "    \"corFunction\": 'pc',\n",
    "    \"doPhaseRetrieval\": 0,\n",
    "    \"alphaReg\": 0.1,\n",
    "    \"writereconstruction\": 0,\n",
    "    \"doOutliers1D\": 1,\n",
    "    \"castTo8bit\": 0,\n",
    "    \"cast8bit_min\": -10,\n",
    "    \"cast8bit_max\": 30,\n",
    "    \"verbose_printing\": 1,\n",
    "    \"doPolarRing\": 0,\n",
    "    \"Rarc\": 20,\n",
    "    \"Rmaxwidth\": 10,\n",
    "    \"Rtmax\": 10,\n",
    "    \"Rthr\": 10,\n",
    "    \"Rtmin\": .2,\n",
    "    \"chunk_proj\": 25,\n",
    "    \"chunk_sino\": 25,\n",
    "}\n",
    "recon_dictionary, cor_tomo = recon_setup(**functioninput)\n",
    "print(f\"center of rotation: {recon_dictionary['cor']}\")"
   ]
  },
  {
   "cell_type": "code",
   "execution_count": null,
   "metadata": {},
   "outputs": [],
   "source": [
    "#manually set center of rotation based on overlay of first and last image (assumes 180 degree rotation)\n",
    "if isinstance(cor_tomo,np.ndarray):  \n",
    "    firstimage = np.squeeze(cor_tomo[0,:,:])\n",
    "    lastimageflipped = np.squeeze(cor_tomo[1,:,::-1])\n",
    "    shiftedlastimage = np.zeros_like(lastimageflipped)\n",
    "    imagewidth = cor_tomo.shape[2]\n",
    "    cor_shift_initial_value = 2*(recon_dictionary['cor'] - imagewidth/2)\n",
    "    non = lambda s: s if s<0 else None\n",
    "    mom = lambda s: max(0,s)\n",
    "\n",
    "    fig, ax = plt.subplots(constrained_layout=True)\n",
    "    fig.canvas.toolbar_position = 'right'\n",
    "    fig.canvas.header_visible = False\n",
    "    img = ax.imshow(firstimage-lastimageflipped,cmap='gray',vmin=-0.2,vmax=0.2)\n",
    "    \n",
    "    def updateimage(ox):\n",
    "        recon_dictionary['cor'] = imagewidth/2.0 + ox/2.0\n",
    "        shiftedlastimage[:,mom(ox):non(ox)] = lastimageflipped[:, mom(-ox):non(-ox)]\n",
    "        img.set_array(firstimage - shiftedlastimage)\n",
    "        ax.set_title(f\"COR: {recon_dictionary['cor']}\")\n",
    "        fig.canvas.draw()\n",
    "        fig.canvas.flush_events()\n",
    "    \n",
    "    slider_xshift = widgets.IntSlider(description='Shift Image', min = -300, max = 300, step=1, value = cor_shift_initial_value, layout=widgets.Layout(width='50%'))\n",
    "    uishiftsliders = widgets.HBox([slider_xshift])\n",
    "    outshiftsliders = widgets.interactive_output(updateimage,{'ox':slider_xshift});\n",
    "    display(uishiftsliders,outshiftsliders)\n",
    "else:\n",
    "    print(\"COR was already set by user, no display available\")"
   ]
  },
  {
   "cell_type": "code",
   "execution_count": null,
   "metadata": {},
   "outputs": [],
   "source": [
    "#this cell reconsructs one slice\n",
    "#(or the number of slices specified in sinoused)\n",
    "print(f\"COR: {recon_dictionary['cor']}\")\n",
    "rec, tomo = recon(**recon_dictionary)"
   ]
  },
  {
   "cell_type": "code",
   "execution_count": null,
   "metadata": {},
   "outputs": [],
   "source": [
    "#This cell visualizes the reconstructed slice(s)\n",
    "s = SliceViewer(volume=rec)\n",
    "s.figure_size = [900, 900] #adjust this number to adjust the size of the figure/image\n",
    "margin = s.figure_size[1] - 140\n",
    "s.gridbox.layout = widgets.Layout(width='auto', height='auto', grid_gap=f'0px 10px',grid_template_columns=f'{s.figure_size[0]}px 180px', grid_template_rows=f'140px {margin}px 36px 60px', grid_template_areas=''' \"figure toolbar\" \"figure mini-map\"\"min-max-slider min-max-slider\"\"bottom-bar bottom-bar\"''',)\n",
    "s.min_max_slider.min = -10 #if needed, adjust min and max to set brightness and contrast\n",
    "s.min_max_slider.max = 30 #if needed, adjust min and max to set brightness and contrast\n",
    "s"
   ]
  },
  {
   "cell_type": "code",
   "execution_count": null,
   "metadata": {},
   "outputs": [],
   "source": [
    "#This cell takes the parameters most recently used and\n",
    "#adds doing a full reconstruction to the to-do list\n",
    "functioninput['sinoused'] = None\n",
    "functioninput['writereconstruction'] = 1\n",
    "functioninput['verbose_printing'] = 0\n",
    "functioninput['cor'] = recon_dictionary['cor']\n",
    "recon_dictionary, cor_tomo = recon_setup(**functioninput)\n",
    "\n",
    "recons_todo.append(recon_dictionary)\n",
    "with open(os.path.join(outputPath,pickledparamsfile), 'wb') as f:\n",
    "    pickle.dump(recons_todo, f, protocol=pickle.HIGHEST_PROTOCOL)\n",
    "print(f'Parameters added to list saved in {os.path.join(outputPath,pickledparamsfile)}')\n",
    "print(f'Number of reconstructions in recons_todo = {len(recons_todo)}')"
   ]
  },
  {
   "cell_type": "code",
   "execution_count": null,
   "metadata": {},
   "outputs": [],
   "source": [
    "for i in range(0,len(recons_todo)):\n",
    "    recon_dictionary = recons_todo[i]\n",
    "    rec, tomo = recon(**recon_dictionary)"
   ]
  },
  {
   "cell_type": "code",
   "execution_count": null,
   "metadata": {},
   "outputs": [],
   "source": []
  },
  {
   "cell_type": "markdown",
   "metadata": {},
   "source": [
    "The rest of the cells are in case you lost track of what you were doing\n",
    "or had to restart the notebook and want to load a previous to do list"
   ]
  },
  {
   "cell_type": "code",
   "execution_count": null,
   "metadata": {},
   "outputs": [],
   "source": [
    "# list the data sets on recon_todo\n",
    "# for i in range(0,len(recons_todo)):\n",
    "#     print(recons_todo[i]['filename'])"
   ]
  },
  {
   "cell_type": "code",
   "execution_count": null,
   "metadata": {},
   "outputs": [],
   "source": [
    "#If a parameters file is saved previously but wasn't run,\n",
    "#it can be opened here to run the reconstructions in the next cell\n",
    "\n",
    "# with open(os.path.join(outputPath,pickledparamsfile), 'rb') as f:\n",
    "#     recons_todo = pickle.load(f)"
   ]
  }
 ],
 "metadata": {
  "kernelspec": {
   "display_name": "tomopy2020may",
   "language": "python",
   "name": "tomopy2020may"
  },
  "language_info": {
   "codemirror_mode": {
    "name": "ipython",
    "version": 3
   },
   "file_extension": ".py",
   "mimetype": "text/x-python",
   "name": "python",
   "nbconvert_exporter": "python",
   "pygments_lexer": "ipython3",
   "version": "3.7.6"
  }
 },
 "nbformat": 4,
 "nbformat_minor": 4
}
