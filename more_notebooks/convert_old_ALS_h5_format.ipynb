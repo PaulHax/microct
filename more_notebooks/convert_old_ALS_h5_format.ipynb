{
 "cells": [
  {
   "cell_type": "markdown",
   "metadata": {},
   "source": [
    "# 8.3.2 Data Format Converter"
   ]
  },
  {
   "cell_type": "code",
   "execution_count": null,
   "metadata": {},
   "outputs": [],
   "source": [
    "%load_ext autoreload\n",
    "%autoreload 2\n",
    "%matplotlib widget\n",
    "import sys\n",
    "import os\n",
    "import multiprocessing as mp\n",
    "import time\n",
    "from tqdm import tqdm\n",
    "import numexpr\n",
    "import numpy as np\n",
    "from skimage import transform, io\n",
    "import h5py\n",
    "import tomopy\n",
    "import dxchange\n",
    "import matplotlib.pyplot as plt\n",
    "import ipywidgets as widgets\n",
    "from ipyfilechooser import FileChooser"
   ]
  },
  {
   "cell_type": "markdown",
   "metadata": {},
   "source": [
    "### Choose the data file you want to convert"
   ]
  },
  {
   "cell_type": "code",
   "execution_count": null,
   "metadata": {},
   "outputs": [],
   "source": [
    "dataDir = '/alsuser' if os.path.exists('/alsuser') else os.getcwd()\n",
    "# dataDir = \"/global/cfs/cdirs/als/users/tomography_notebooks/example_data/old_format\" # where is the raw data?\n",
    "file_chooser = FileChooser(dataDir)\n",
    "file_chooser.filter_pattern = '*.h5' # only show .h5 files\n",
    "file_chooser.title = f'Choose data file'\n",
    "display(file_chooser)"
   ]
  },
  {
   "cell_type": "markdown",
   "metadata": {},
   "source": [
    "### Choose where to save the converted data file"
   ]
  },
  {
   "cell_type": "code",
   "execution_count": null,
   "metadata": {},
   "outputs": [],
   "source": [
    "save_file_chooser = FileChooser(dataDir)\n",
    "save_file_chooser.show_only_dirs = True\n",
    "save_file_chooser.title = f'Choose data file'\n",
    "display(save_file_chooser)"
   ]
  },
  {
   "cell_type": "markdown",
   "metadata": {},
   "source": [
    "### Run this cell -- its contains the function to read old data "
   ]
  },
  {
   "cell_type": "code",
   "execution_count": null,
   "metadata": {},
   "outputs": [],
   "source": [
    "#for files 0 and 1, there are two tiles each (so set whichtile to either  0 and 1).\n",
    "#For the rest of the files, there is just a single tile, which means you need to set whichtile to negative\n",
    "#because the hdf5 layout is different for tiled vs non-tiled datd\n",
    "\n",
    "def read_OI_2012(fname, proj=None, sino=None, whichtile=-1):\n",
    "    h5file = h5py.File(fname,'r')\n",
    "    dname = fname.split('/')[-1].split('.')[0]\n",
    "    grouppath = dname\n",
    "    if whichtile>-1:\n",
    "        tilepart = f\"_x0y{whichtile}\"\n",
    "        grouppath = f\"{grouppath}/{dname}{tilepart}\"\n",
    "    else:\n",
    "        tilepart = \"\"\n",
    "    flat_name = f\"{dname}{tilepart}bak_0.tif\"\n",
    "    dark_name = f\"{dname}{tilepart}drk_0.tif\"\n",
    "    tomo_name = f\"{dname}{tilepart}_0.tif\"\n",
    "    thegroup = h5file[grouppath]\n",
    "    nproj = 1201\n",
    "    inter_bright = 120\n",
    "    ind_dark = list(range(0, 10))\n",
    "    ind_flat = list(range(0, nproj, inter_bright))\n",
    "    if proj is not None:\n",
    "        ind_tomo = proj\n",
    "    else:\n",
    "        ind_tomo = list(range(0, nproj))\n",
    "    if sino is not None:\n",
    "        ind_sino = sino\n",
    "    else:\n",
    "        ind_sino = (None, None)\n",
    "    flat = dxchange.reader.read_hdf5_stack(thegroup, flat_name, ind_flat, slc=ind_sino, out_ind=None)\n",
    "    dark = dxchange.reader.read_hdf5_stack(thegroup, dark_name, ind_dark, slc=ind_sino, out_ind=None)\n",
    "    tomo = dxchange.reader.read_hdf5_stack(thegroup, tomo_name, ind_tomo, slc=ind_sino, out_ind=None)\n",
    "\n",
    "    # tomo = tomo.astype(np.float32,copy=False)\n",
    "    # tomopy.normalize(tomo, flat, dark, out=tomo)\n",
    "    # tomopy.minus_log(tomo, out=tomo)\n",
    "\n",
    "    # angle_offset = 270 # hardcoded from Dula's tomopyALS_Acevedo.ipynb\n",
    "    angle_offset = 0\n",
    "    anglelist = tomopy.angles(numangles, angle_offset, angle_offset - angularrange)\n",
    "    anglelist = anglelist[ind_tomo]\n",
    "        \n",
    "    return tomo, flat, dark, anglelist\n",
    "\n",
    "def read_als_832_format(path, proj=None, sino=None):\n",
    "    tomo, flat, dark, floc = dxchange.read_als_832h5(path, proj=proj,sino=sino)\n",
    "\n",
    "    angle_offset = 0\n",
    "    anglelist = tomopy.angles(numangles, angle_offset, angle_offset-angularrange)\n",
    "    if proj is not None:\n",
    "        anglelist = anglelist[proj]\n",
    "    \n",
    "    return tomo, flat, dark, anglelist"
   ]
  },
  {
   "cell_type": "markdown",
   "metadata": {},
   "source": [
    "### Choose old data format\n",
    "* **als832_2018-2021** <br>\n",
    "* **'spot_suitcase'**: If this dataset has tiles, set the \"whichtiletodo\" to choose. Otherwise set to -1, because the hdf5 layout is different for tiled vs non-tiled data <br>"
   ]
  },
  {
   "cell_type": "code",
   "execution_count": null,
   "metadata": {},
   "outputs": [],
   "source": [
    "format_choices = widgets.Dropdown(\n",
    "    options=['als832_2018-2021','spot_suitcase'],\n",
    "    value='als832_2018-2021',\n",
    "    description='<font size=4>Old ALS format options:',\n",
    "    disabled=False,\n",
    "    style={'description_width': 'initial'} # this makes sure description text doesn't get cut off\n",
    ")\n",
    "display(format_choices)"
   ]
  },
  {
   "cell_type": "markdown",
   "metadata": {},
   "source": [
    "### Load old data - this may take a some time if the data is large"
   ]
  },
  {
   "cell_type": "code",
   "execution_count": null,
   "metadata": {},
   "outputs": [],
   "source": [
    "whichtiletodo = -1 #put -1 for a single tile in the file, otherwise put 0, 1, ... for the tile you want.\n",
    "\n",
    "file_format = format_choices.value\n",
    "filename = file_chooser.selected_filename\n",
    "path = os.path.join(file_chooser.selected_path, filename)\n",
    "\n",
    "datafile =  h5py.File(path, 'r')\n",
    "gdata = dict(dxchange.reader._find_dataset_group(datafile).attrs)\n",
    "pxsize = np.asarray(float(gdata['pxsize'])/10)\n",
    "numslices = np.asarray(int(gdata['nslices']))\n",
    "numangles = np.asarray(int(gdata['nangles']))\n",
    "angularrange = np.asarray(float(gdata['arange']))\n",
    "numrays = np.asarray(int(gdata['nrays']))\n",
    "kev = np.asarray([0])\n",
    "propagation_dist = np.asarray([0])\n",
    "inter_bright = np.asarray([0])\n",
    "energy = np.asarray([0])\n",
    "camera_distance = np.asarray([0,0])\n",
    "\n",
    "print(f'{filename}: \\nslices: {numslices}, rays: {numrays}, angles: {numangles}, angularrange: {angularrange}, \\npxsize: {pxsize*10000} um')# , distance: {propagation_dist} mm. energy: {kev} keV')\n",
    "\n",
    "if file_format == \"spot_suitcase\": \n",
    "    full_tomo, full_flat, full_dark, full_angles = read_OI_2012(path, proj=None, sino=None, whichtile=whichtiletodo)\n",
    "elif file_format == \"als832_2018-2021\":\n",
    "    full_tomo, full_flat, full_dark, full_angles = read_als_832_format(path, proj=None, sino=None)\n",
    "else:\n",
    "    print('Error: didnt recognize that old file format')"
   ]
  },
  {
   "cell_type": "markdown",
   "metadata": {},
   "source": [
    "### Look through projections, if you want"
   ]
  },
  {
   "cell_type": "code",
   "execution_count": null,
   "metadata": {},
   "outputs": [],
   "source": [
    "clim = [full_tomo.min(),full_tomo.max()]\n",
    "if plt.fignum_exists(1): plt.close(1)\n",
    "fig, axs = plt.subplots(1,1,num=1,figsize=(10, 5))\n",
    "img = axs.imshow(full_tomo[0],cmap='gray',vmin=clim[0],vmax=clim[1])\n",
    "plt.tight_layout()\n",
    "\n",
    "def set_proj(i):\n",
    "    img.set_data(full_tomo[i])\n",
    "def set_clim(clims):\n",
    "    img.set_clim(vmin=clims[0],vmax=clims[1]) \n",
    "    \n",
    "proj_slider = widgets.interactive(set_proj, description='Projection',\n",
    "                                  i=widgets.IntSlider(min=0, max=len(full_tomo)-1, step=1, value=0))\n",
    "clim_slider = widgets.interactive(set_clim,\n",
    "                                  clims=widgets.FloatRangeSlider(description='Color Scale', layout=widgets.Layout(width='50%'),\n",
    "                                                                 min=clim[0], max=clim[-1],\n",
    "                                                                 step=(clim[-1]-clim[0])/500, value=img.get_clim()))\n",
    "ui = widgets.VBox([proj_slider, clim_slider])\n",
    "display(ui)"
   ]
  },
  {
   "cell_type": "markdown",
   "metadata": {},
   "source": [
    "### Save in new ALS 832 hdf5 format"
   ]
  },
  {
   "cell_type": "code",
   "execution_count": null,
   "metadata": {},
   "outputs": [],
   "source": [
    "new_file = filename if whichtiletodo < 0 else os.path.splitext(filename)[0] + f\"_tile-{whichtiletodo}.h5\"\n",
    "if os.path.exists(os.path.join(save_file_chooser.selected_path, new_file)):\n",
    "    os.remove(os.path.join(save_file_chooser.selected_path, new_file))\n",
    "with h5py.File(os.path.join(save_file_chooser.selected_path, new_file),'a') as f:\n",
    "    det = f.create_group(\"measurement/instrument/detector\")\n",
    "    det.create_dataset(\"dimension_y\", data=np.asarray(numslices)[np.newaxis])\n",
    "    det.create_dataset(\"dimension_x\", data=np.asarray(numrays)[np.newaxis])\n",
    "    det.create_dataset(\"pixel_size\", data=np.asarray(pxsize*10.0)[np.newaxis])\n",
    "    f.create_dataset(\"/process/acquisition/flat_fields/i0cycle\",data=np.asarray(inter_bright)[np.newaxis])\n",
    "    f.create_dataset(\"/process/acquisition/flat_fields/num_flat_fields\",data=np.asarray(len(full_flat))[np.newaxis])\n",
    "    f.create_dataset(\"/process/acquisition/dark_fields/num_dark_fields\",data=np.asarray(len(full_dark))[np.newaxis])  \n",
    "    f.create_dataset(\"measurement/instrument/camera_motor_stack/setup/camera_distance\",data=camera_distance)\n",
    "    f.create_dataset(\"measurement/instrument/monochromator/energy\",data=energy)\n",
    "    rot = f.create_group(\"process/acquisition/rotation\")\n",
    "    rot.create_dataset(\"num_angles\", data=np.asarray(len(full_angles))[np.newaxis])\n",
    "    rot.create_dataset(\"range\", data=np.asarray(np.rad2deg(np.abs(full_angles[-1]-full_angles[0])))[np.newaxis])\n",
    "    exch = f.create_group(\"exchange\")\n",
    "    exch.create_dataset(\"data\", data=full_tomo)\n",
    "    exch.create_dataset(\"data_white\", data=full_flat)\n",
    "    exch.create_dataset(\"data_dark\", data=full_dark)\n",
    "    exch.create_dataset(\"theta\", data=np.rad2deg(full_angles))"
   ]
  },
  {
   "cell_type": "markdown",
   "metadata": {},
   "source": [
    "# The rest is just for saving in as numpy array -- you don't need to run it"
   ]
  },
  {
   "cell_type": "markdown",
   "metadata": {},
   "source": [
    "### Preprocess and save as .npz"
   ]
  },
  {
   "cell_type": "code",
   "execution_count": null,
   "metadata": {},
   "outputs": [],
   "source": [
    "tomo = full_tomo.astype(np.float32,copy=True)\n",
    "tomo = tomopy.normalize(tomo, full_flat, full_dark)\n",
    "tomopy.minus_log(tomo, out=tomo)\n",
    "anglelist = full_angles\n",
    "print(tomo.shape, tomo.dtype)"
   ]
  },
  {
   "cell_type": "code",
   "execution_count": null,
   "metadata": {},
   "outputs": [],
   "source": [
    "new_file = f\"{os.path.splitext(filename)[0]}.npz\" if whichtiletodo < 0 else os.path.splitext(filename)[0] + f\"_tile-{whichtiletodo}.npz\"\n",
    "np.savez(os.path.join(saveDir,new_file),tomo=tomo,angles=anglelist)"
   ]
  },
  {
   "cell_type": "markdown",
   "metadata": {},
   "source": [
    "### Downsample and save as .npz"
   ]
  },
  {
   "cell_type": "code",
   "execution_count": null,
   "metadata": {},
   "outputs": [],
   "source": [
    "down_ang = 8\n",
    "down_px = 8\n",
    "def proj_down(projs,down_px):\n",
    "    down = [transform.downscale_local_mean(proj, (down_px,down_px), cval=0).astype(proj.dtype) for proj in projs]\n",
    "    return np.asarray(down)"
   ]
  },
  {
   "cell_type": "code",
   "execution_count": null,
   "metadata": {},
   "outputs": [],
   "source": [
    "tomo_down = proj_down(tomo[0:numangles:down_ang],down_px)\n",
    "anglelist_down = anglelist[0:numangles:down_ang]"
   ]
  },
  {
   "cell_type": "code",
   "execution_count": null,
   "metadata": {},
   "outputs": [],
   "source": [
    "print(tomo_down.shape, tomo_down.dtype)\n",
    "print(anglelist_down.shape, anglelist_down.dtype)"
   ]
  },
  {
   "cell_type": "code",
   "execution_count": null,
   "metadata": {},
   "outputs": [],
   "source": [
    "if whichtiletodo < 0:\n",
    "    new_file = f\"down_{down_px}x{down_px}x{down_ang}x_{os.path.splitext(filename)[0]}.npz\"\n",
    "else:\n",
    "    new_file = f\"down_{down_px}x{down_px}x{down_ang}x_{os.path.splitext(filename)[0]}_tile-{whichtiletodo}.npz\"\n",
    "np.savez(os.path.join(saveDir,new_file),tomo=tomo_down,angles=anglelist_down)"
   ]
  },
  {
   "cell_type": "code",
   "execution_count": null,
   "metadata": {},
   "outputs": [],
   "source": []
  }
 ],
 "metadata": {
  "kernelspec": {
   "display_name": "als832",
   "language": "python",
   "name": "als832"
  },
  "language_info": {
   "codemirror_mode": {
    "name": "ipython",
    "version": 3
   },
   "file_extension": ".py",
   "mimetype": "text/x-python",
   "name": "python",
   "nbconvert_exporter": "python",
   "pygments_lexer": "ipython3",
   "version": "3.9.12"
  }
 },
 "nbformat": 4,
 "nbformat_minor": 4
}
